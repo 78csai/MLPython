{
 "cells": [
  {
   "cell_type": "markdown",
   "id": "22399ac9",
   "metadata": {
    "slideshow": {
     "slide_type": "slide"
    }
   },
   "source": [
    "### Excercises\n",
    "- Set up your own network architecture \n",
    "    - Number of layers\n",
    "    - Number of neurons / units per layer\n",
    "    - Activation function\n",
    "    - Optimiser\n",
    "    - Learning rate (schedule)\n",
    "    - Batch size\n",
    "- What hyperparameter changes influence network performance the most? What hyperparameter changes result in a large difference between **training** and **validation** loss/accuracy?\n",
    "- Tune the learning rate and see how high you can get the **training** loss\n",
    "- How does the train / validation split influence network performance? \n",
    "- Use hyperparameter tuning to achieve an as low as possible **validation** loss / as high as possible validation accuracy / F1 score (or even better, test accuracy / F1 score). Tune sensible combinations, like number of neurons in each layer and / or number of layers or optimiser method, learning rate and optimiser hyperparameters\n",
    "\n",
    "Optional:\n",
    "- Load the Boston housing dataset (https://keras.io/api/datasets/) and set up a regression network. What output activation function do you need? What loss and metric are suitable?"
   ]
  },
  {
   "cell_type": "code",
   "execution_count": 9,
   "id": "d508e5b2",
   "metadata": {},
   "outputs": [],
   "source": [
    "#import packages\n",
    "import numpy as np\n",
    "import tensorflow as tf\n",
    "from tensorflow import keras\n",
    "from tensorflow.keras import layers, initializers, Model, models, optimizers, metrics, callbacks\n",
    "from functools import partial\n",
    "import keras_tuner as kt\n",
    "from sklearn.metrics import multilabel_confusion_matrix"
   ]
  },
  {
   "cell_type": "code",
   "execution_count": 19,
   "id": "99b6fe1f",
   "metadata": {},
   "outputs": [
    {
     "name": "stdout",
     "output_type": "stream",
     "text": [
      "Downloading data from https://storage.googleapis.com/tensorflow/tf-keras-datasets/boston_housing.npz\n",
      "57344/57026 [==============================] - 0s 0us/step\n",
      "65536/57026 [==================================] - 0s 0us/step\n"
     ]
    },
    {
     "data": {
      "text/plain": [
       "((404, 13), (404,), (102, 13), (102,))"
      ]
     },
     "execution_count": 19,
     "metadata": {},
     "output_type": "execute_result"
    }
   ],
   "source": [
    "#get data\n",
    "# load the mnist dataset, already split in training and test data\n",
    "(x_train, y_train), (x_test, y_test) = keras.datasets.boston_housing.load_data() \n",
    "# http://yann.lecun.com/exdb/mnist/\n",
    "x_train.shape, y_train.shape, x_test.shape, y_test.shape"
   ]
  },
  {
   "cell_type": "code",
   "execution_count": 30,
   "id": "c3849362",
   "metadata": {},
   "outputs": [
    {
     "name": "stdout",
     "output_type": "stream",
     "text": [
      "Model: \"sequential_10\"\n",
      "_________________________________________________________________\n",
      " Layer (type)                Output Shape              Param #   \n",
      "=================================================================\n",
      " dense_18 (Dense)            (None, 1000)              14000     \n",
      "                                                                 \n",
      " dense_19 (Dense)            (None, 1000)              1001000   \n",
      "                                                                 \n",
      " dense_20 (Dense)            (None, 1)                 1001      \n",
      "                                                                 \n",
      "=================================================================\n",
      "Total params: 1,016,001\n",
      "Trainable params: 1,016,001\n",
      "Non-trainable params: 0\n",
      "_________________________________________________________________\n",
      "Epoch 1/10\n",
      "3/3 [==============================] - 0s 50ms/step - loss: 603.2704 - val_loss: 698.2441\n",
      "Epoch 2/10\n",
      "3/3 [==============================] - 0s 23ms/step - loss: 603.2704 - val_loss: 698.2441\n",
      "Epoch 3/10\n",
      "3/3 [==============================] - 0s 19ms/step - loss: 603.2704 - val_loss: 698.2441\n",
      "Epoch 4/10\n",
      "3/3 [==============================] - 0s 14ms/step - loss: 603.2704 - val_loss: 698.2441\n",
      "Epoch 5/10\n",
      "3/3 [==============================] - 0s 14ms/step - loss: 603.2704 - val_loss: 698.2441\n",
      "Epoch 6/10\n",
      "3/3 [==============================] - 0s 16ms/step - loss: 603.2704 - val_loss: 698.2441\n",
      "Epoch 7/10\n",
      "3/3 [==============================] - 0s 19ms/step - loss: 603.2704 - val_loss: 698.2441\n",
      "Epoch 8/10\n",
      "3/3 [==============================] - 0s 16ms/step - loss: 603.2704 - val_loss: 698.2441\n",
      "Epoch 9/10\n",
      "3/3 [==============================] - 0s 19ms/step - loss: 603.2704 - val_loss: 698.2441\n",
      "Epoch 10/10\n",
      "3/3 [==============================] - 0s 16ms/step - loss: 603.2704 - val_loss: 698.2441\n"
     ]
    },
    {
     "data": {
      "text/plain": [
       "<keras.callbacks.History at 0x193a3516790>"
      ]
     },
     "execution_count": 30,
     "metadata": {},
     "output_type": "execute_result"
    }
   ],
   "source": [
    "#Exercise \n",
    "#Setup network with partial\n",
    "denseLayer = partial(layers.Dense, \n",
    "                     kernel_initializer='he_normal',\n",
    "                     bias_initializer=initializers.Constant(0.1),\n",
    "                     activation='ELU')\n",
    "model = keras.Sequential([\n",
    "    layers.Input(13), \n",
    "    denseLayer(1000),\n",
    "    denseLayer(1000),\n",
    "    denseLayer(1)\n",
    "])\n",
    "model.summary()\n",
    "\n",
    "model.compile(loss='mean_squared_error')\n",
    "model.fit(x_train,y_train,batch_size=batch_size, epochs=epochs, validation_split=0.3)"
   ]
  },
  {
   "cell_type": "code",
   "execution_count": 16,
   "id": "a2e74efc",
   "metadata": {},
   "outputs": [
    {
     "ename": "NameError",
     "evalue": "name 'SGD' is not defined",
     "output_type": "error",
     "traceback": [
      "\u001b[1;31m---------------------------------------------------------------------------\u001b[0m",
      "\u001b[1;31mNameError\u001b[0m                                 Traceback (most recent call last)",
      "\u001b[1;32m<ipython-input-16-3314fa601311>\u001b[0m in \u001b[0;36m<module>\u001b[1;34m\u001b[0m\n\u001b[0;32m      1\u001b[0m \u001b[0mbatch_size\u001b[0m\u001b[1;33m=\u001b[0m\u001b[1;36m128\u001b[0m\u001b[1;33m\u001b[0m\u001b[1;33m\u001b[0m\u001b[0m\n\u001b[0;32m      2\u001b[0m \u001b[0mepochs\u001b[0m\u001b[1;33m=\u001b[0m\u001b[1;36m10\u001b[0m\u001b[1;33m\u001b[0m\u001b[1;33m\u001b[0m\u001b[0m\n\u001b[1;32m----> 3\u001b[1;33m \u001b[0mmodel\u001b[0m\u001b[1;33m.\u001b[0m\u001b[0mcompile\u001b[0m\u001b[1;33m(\u001b[0m\u001b[0mloss\u001b[0m\u001b[1;33m=\u001b[0m\u001b[1;34m\"categorical_crossentropy\"\u001b[0m\u001b[1;33m,\u001b[0m \u001b[0moptimizer\u001b[0m\u001b[1;33m=\u001b[0m\u001b[0mSGD\u001b[0m\u001b[1;33m,\u001b[0m\u001b[0mmetrics\u001b[0m\u001b[1;33m=\u001b[0m\u001b[1;33m[\u001b[0m\u001b[1;34m\"accuracy\"\u001b[0m\u001b[1;33m,\u001b[0m \u001b[0mmetrics\u001b[0m\u001b[1;33m.\u001b[0m\u001b[0mPrecision\u001b[0m\u001b[1;33m(\u001b[0m\u001b[1;33m)\u001b[0m\u001b[1;33m,\u001b[0m \u001b[0mmetrics\u001b[0m\u001b[1;33m.\u001b[0m\u001b[0mRecall\u001b[0m\u001b[1;33m(\u001b[0m\u001b[1;33m)\u001b[0m\u001b[1;33m]\u001b[0m\u001b[1;33m)\u001b[0m\u001b[1;33m\u001b[0m\u001b[1;33m\u001b[0m\u001b[0m\n\u001b[0m\u001b[0;32m      4\u001b[0m \u001b[1;31m#history=model.fit(x_train,y_train,batch_size=batch_size, epochs=epochs, validation_split=0.3)\u001b[0m\u001b[1;33m\u001b[0m\u001b[1;33m\u001b[0m\u001b[1;33m\u001b[0m\u001b[0m\n",
      "\u001b[1;31mNameError\u001b[0m: name 'SGD' is not defined"
     ]
    }
   ],
   "source": [
    "batch_size=128\n",
    "epochs=10\n",
    "model.compile(loss=\"categorical_crossentropy\", optimizer=SGD,metrics=[\"accuracy\", metrics.Precision(), metrics.Recall()])\n",
    "#history=model.fit(x_train,y_train,batch_size=batch_size, epochs=epochs, validation_split=0.3)"
   ]
  },
  {
   "cell_type": "code",
   "execution_count": null,
   "id": "904ddecc",
   "metadata": {},
   "outputs": [],
   "source": []
  }
 ],
 "metadata": {
  "celltoolbar": "Slideshow",
  "kernelspec": {
   "display_name": "Python 3",
   "language": "python",
   "name": "python3"
  },
  "language_info": {
   "codemirror_mode": {
    "name": "ipython",
    "version": 3
   },
   "file_extension": ".py",
   "mimetype": "text/x-python",
   "name": "python",
   "nbconvert_exporter": "python",
   "pygments_lexer": "ipython3",
   "version": "3.8.8"
  }
 },
 "nbformat": 4,
 "nbformat_minor": 5
}
