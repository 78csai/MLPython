{
 "cells": [
  {
   "cell_type": "code",
   "execution_count": 1,
   "id": "6184339f",
   "metadata": {},
   "outputs": [],
   "source": [
    "from cv2 import *\n",
    "# initialize the camera\n",
    "\n",
    "cam = VideoCapture(0)"
   ]
  },
  {
   "cell_type": "code",
   "execution_count": null,
   "id": "062ee477",
   "metadata": {},
   "outputs": [],
   "source": []
  },
  {
   "cell_type": "code",
   "execution_count": 2,
   "id": "d61b2865",
   "metadata": {},
   "outputs": [],
   "source": [
    "import matplotlib.pyplot as plt\n",
    "import cv2\n",
    "path=\"D:\\Data_dice\\{}\\{}.jpeg\""
   ]
  },
  {
   "cell_type": "code",
   "execution_count": null,
   "id": "e3300580",
   "metadata": {},
   "outputs": [
    {
     "name": "stdout",
     "output_type": "stream",
     "text": [
      "Welche Zahl?3\n",
      "Welche Zahl?6\n",
      "Welche Zahl?5\n",
      "Welche Zahl?1\n",
      "Welche Zahl?6\n",
      "Welche Zahl?1\n",
      "Welche Zahl?1\n",
      "Welche Zahl?6\n",
      "Welche Zahl?6\n",
      "Welche Zahl?3\n",
      "Welche Zahl?3\n",
      "Welche Zahl?5\n",
      "Welche Zahl?6\n",
      "Welche Zahl?5\n",
      "Welche Zahl?5\n",
      "Welche Zahl?1\n"
     ]
    }
   ],
   "source": [
    "for i in range(100,900):\n",
    "    result, image = cam.read()\n",
    "    num=input(\"Welche Zahl?\")\n",
    "    path_img=path.format(num,i)\n",
    "    cv2.imwrite(path_img,image)\n"
   ]
  },
  {
   "cell_type": "markdown",
   "id": "f2fb23ff",
   "metadata": {},
   "source": [
    "# result, image = cam.read()\n",
    "cv2.imshow(\"image\",image)"
   ]
  },
  {
   "cell_type": "code",
   "execution_count": null,
   "id": "842de18a",
   "metadata": {},
   "outputs": [],
   "source": []
  }
 ],
 "metadata": {
  "kernelspec": {
   "display_name": "Python 3",
   "language": "python",
   "name": "python3"
  },
  "language_info": {
   "codemirror_mode": {
    "name": "ipython",
    "version": 3
   },
   "file_extension": ".py",
   "mimetype": "text/x-python",
   "name": "python",
   "nbconvert_exporter": "python",
   "pygments_lexer": "ipython3",
   "version": "3.8.8"
  }
 },
 "nbformat": 4,
 "nbformat_minor": 5
}
