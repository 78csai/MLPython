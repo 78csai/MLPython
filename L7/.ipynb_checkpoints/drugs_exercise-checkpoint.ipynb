{
 "cells": [
  {
   "cell_type": "markdown",
   "metadata": {},
   "source": [
    "# Causal analysis in drug evaluation\n",
    "This notebook shows how causal inference can be used to resolve an instance of Simpson's paradoxon. It is based on a great exercise in Judea Pearl's book \"Causal Inference in Statistics: A Primer\". The used data describes an observational study where all patients suffer from the same illness. We are tasked with finding out the effectiveness of a drug that some of the patients have been prescribed. Curiously, the drug seems to help both the male and the female subpopulations, but in the overall population it seems to inhibit recovery. Should we recommend the use of the drug to a random patient? To a man? To a woman?"
   ]
  },
  {
   "cell_type": "markdown",
   "metadata": {},
   "source": [
    "## Extracting information from data\n",
    "### a) Read the data into a Pandas Dataframe!"
   ]
  },
  {
   "cell_type": "code",
   "execution_count": 29,
   "metadata": {},
   "outputs": [
    {
     "data": {
      "text/html": [
       "<div>\n",
       "<style scoped>\n",
       "    .dataframe tbody tr th:only-of-type {\n",
       "        vertical-align: middle;\n",
       "    }\n",
       "\n",
       "    .dataframe tbody tr th {\n",
       "        vertical-align: top;\n",
       "    }\n",
       "\n",
       "    .dataframe thead th {\n",
       "        text-align: right;\n",
       "    }\n",
       "</style>\n",
       "<table border=\"1\" class=\"dataframe\">\n",
       "  <thead>\n",
       "    <tr style=\"text-align: right;\">\n",
       "      <th></th>\n",
       "      <th>Sex</th>\n",
       "      <th>Drug</th>\n",
       "      <th>Recovered</th>\n",
       "    </tr>\n",
       "  </thead>\n",
       "  <tbody>\n",
       "    <tr>\n",
       "      <th>0</th>\n",
       "      <td>Woman</td>\n",
       "      <td>1</td>\n",
       "      <td>0</td>\n",
       "    </tr>\n",
       "    <tr>\n",
       "      <th>1</th>\n",
       "      <td>Woman</td>\n",
       "      <td>1</td>\n",
       "      <td>1</td>\n",
       "    </tr>\n",
       "    <tr>\n",
       "      <th>2</th>\n",
       "      <td>Man</td>\n",
       "      <td>0</td>\n",
       "      <td>1</td>\n",
       "    </tr>\n",
       "    <tr>\n",
       "      <th>3</th>\n",
       "      <td>Man</td>\n",
       "      <td>1</td>\n",
       "      <td>1</td>\n",
       "    </tr>\n",
       "    <tr>\n",
       "      <th>4</th>\n",
       "      <td>Woman</td>\n",
       "      <td>1</td>\n",
       "      <td>1</td>\n",
       "    </tr>\n",
       "    <tr>\n",
       "      <th>...</th>\n",
       "      <td>...</td>\n",
       "      <td>...</td>\n",
       "      <td>...</td>\n",
       "    </tr>\n",
       "    <tr>\n",
       "      <th>9995</th>\n",
       "      <td>Man</td>\n",
       "      <td>0</td>\n",
       "      <td>1</td>\n",
       "    </tr>\n",
       "    <tr>\n",
       "      <th>9996</th>\n",
       "      <td>Woman</td>\n",
       "      <td>0</td>\n",
       "      <td>1</td>\n",
       "    </tr>\n",
       "    <tr>\n",
       "      <th>9997</th>\n",
       "      <td>Woman</td>\n",
       "      <td>1</td>\n",
       "      <td>1</td>\n",
       "    </tr>\n",
       "    <tr>\n",
       "      <th>9998</th>\n",
       "      <td>Man</td>\n",
       "      <td>0</td>\n",
       "      <td>0</td>\n",
       "    </tr>\n",
       "    <tr>\n",
       "      <th>9999</th>\n",
       "      <td>Woman</td>\n",
       "      <td>0</td>\n",
       "      <td>1</td>\n",
       "    </tr>\n",
       "  </tbody>\n",
       "</table>\n",
       "<p>10000 rows × 3 columns</p>\n",
       "</div>"
      ],
      "text/plain": [
       "        Sex  Drug  Recovered\n",
       "0     Woman     1          0\n",
       "1     Woman     1          1\n",
       "2       Man     0          1\n",
       "3       Man     1          1\n",
       "4     Woman     1          1\n",
       "...     ...   ...        ...\n",
       "9995    Man     0          1\n",
       "9996  Woman     0          1\n",
       "9997  Woman     1          1\n",
       "9998    Man     0          0\n",
       "9999  Woman     0          1\n",
       "\n",
       "[10000 rows x 3 columns]"
      ]
     },
     "execution_count": 29,
     "metadata": {},
     "output_type": "execute_result"
    }
   ],
   "source": [
    "import pandas as pd\n",
    "df= pd.read_csv(\"drugs_data.csv\", index_col=0)\n",
    "df"
   ]
  },
  {
   "cell_type": "markdown",
   "metadata": {},
   "source": [
    "### b) Find out how many of the patients\n",
    "- are men,\n",
    "- are women,\n",
    "- have taken the drug,\n",
    "- have not taken the drug,\n",
    "- have recovered,\n",
    "- have not recovered.\n",
    "\n",
    "### Note that 1 means True, 0 means False. Provide your answers in percentages, not absolute numbers."
   ]
  },
  {
   "cell_type": "code",
   "execution_count": 25,
   "metadata": {},
   "outputs": [
    {
     "name": "stdout",
     "output_type": "stream",
     "text": [
      "Sex Man holds 0.5006%\n",
      "Sex Woman holds 0.4994%\n",
      "Drug True holds 0.5051%\n",
      "Drug False holds 0.4949%\n",
      "Recovered True holds 0.8026%\n",
      "Recovered False holds 0.1974%\n"
     ]
    }
   ],
   "source": [
    "\n",
    "\n",
    "def count_properties(df, prop, value, verbose=True):\n",
    "    rows=df[prop]==value\n",
    "    result=sum(rows)/(len(df))\n",
    "    print(f\"{prop} {value} holds {result}%\")\n",
    "    \n",
    "count_properties(df, \"Sex\", \"Man\")\n",
    "count_properties(df, \"Sex\", \"Woman\")\n",
    "count_properties(df, \"Drug\", True)\n",
    "count_properties(df, \"Drug\", False)\n",
    "count_properties(df, \"Recovered\", True)\n",
    "count_properties(df, \"Recovered\", False)"
   ]
  },
  {
   "cell_type": "markdown",
   "metadata": {},
   "source": [
    "### c) Create a table (or dictionary etc.) that shows how frequently recovery has been observed for\n",
    "- Men that have taken the drug,\n",
    "- Men that have not taken the drug,\n",
    "- Women that have taken the drug,\n",
    "- Women that have not taken the drug,\n",
    "- Patients that have taken the drug,\n",
    "- Patients that have not taken the drug.\n",
    "### Note that 1 means True, 0 means False. Provide your answers in percentages, not absolute numbers."
   ]
  },
  {
   "cell_type": "code",
   "execution_count": 32,
   "metadata": {},
   "outputs": [
    {
     "name": "stdout",
     "output_type": "stream",
     "text": [
      "        No Drug      Drug\n",
      "Man    0.870668  0.915039\n",
      "Woman  0.670114  0.738515\n",
      "Both   0.831481  0.774302\n"
     ]
    }
   ],
   "source": [
    "def get_recovery_rate(df, sex, drug):\n",
    "    if sex == \"Both\":\n",
    "        filtered_df=df[df.Drug==drug]\n",
    "    else:\n",
    "        filtered_df=df[(df.Sex==sex)&(df.Drug==drug)]\n",
    "    return filtered_df[\"Recovered\"].mean()\n",
    "\n",
    "results_df=pd.DataFrame()\n",
    "sexes=[\"Man\", \"Woman\", \"Both\"]\n",
    "for drug in [0,1]:\n",
    "    results_df[drug]=[get_recovery_rate(df,sex,drug)for sex in sexes]\n",
    "results_df.index=sexes\n",
    "results_df.columns=[\"No Drug\", \"Drug\"]\n",
    "print(results_df)"
   ]
  },
  {
   "cell_type": "markdown",
   "metadata": {},
   "source": [
    "### d) Imagine using a linear regression to model the dependency of\n",
    "- i) Recovery on Drug: negative close to 0\n",
    "- ii) Recovery on Drug and Sex. positive close to 0\n",
    "\n",
    "### Predict what the coefficient of Drug will look like in each model."
   ]
  },
  {
   "cell_type": "markdown",
   "metadata": {},
   "source": []
  },
  {
   "cell_type": "markdown",
   "metadata": {},
   "source": [
    "### e) Using a package of your choice (e.g. statsmodels), fit the linear regression and confirm your intuition from the previous task."
   ]
  },
  {
   "cell_type": "code",
   "execution_count": 35,
   "metadata": {},
   "outputs": [
    {
     "ename": "ModuleNotFoundError",
     "evalue": "No module named 'statsmodels'",
     "output_type": "error",
     "traceback": [
      "\u001b[1;31m---------------------------------------------------------------------------\u001b[0m",
      "\u001b[1;31mModuleNotFoundError\u001b[0m                       Traceback (most recent call last)",
      "\u001b[1;32m~\\AppData\\Local\\Temp/ipykernel_13052/1972968427.py\u001b[0m in \u001b[0;36m<module>\u001b[1;34m\u001b[0m\n\u001b[1;32m----> 1\u001b[1;33m \u001b[1;32mimport\u001b[0m \u001b[0mstatsmodels\u001b[0m\u001b[1;33m.\u001b[0m\u001b[0mapi\u001b[0m \u001b[1;32mas\u001b[0m \u001b[0msm\u001b[0m\u001b[1;33m\u001b[0m\u001b[1;33m\u001b[0m\u001b[0m\n\u001b[0m\u001b[0;32m      2\u001b[0m \u001b[1;32mimport\u001b[0m \u001b[0mnumpy\u001b[0m \u001b[1;32mas\u001b[0m \u001b[0mnp\u001b[0m\u001b[1;33m\u001b[0m\u001b[1;33m\u001b[0m\u001b[0m\n\u001b[0;32m      3\u001b[0m \u001b[0mY\u001b[0m \u001b[1;33m=\u001b[0m \u001b[0mdf\u001b[0m\u001b[1;33m[\u001b[0m\u001b[1;34m'Recovery'\u001b[0m\u001b[1;33m]\u001b[0m\u001b[1;33m\u001b[0m\u001b[1;33m\u001b[0m\u001b[0m\n\u001b[0;32m      4\u001b[0m \u001b[0mX\u001b[0m \u001b[1;33m=\u001b[0m \u001b[0mdf\u001b[0m\u001b[1;33m[\u001b[0m\u001b[1;34m\"Sex\"\u001b[0m\u001b[1;33m]\u001b[0m\u001b[1;33m\u001b[0m\u001b[1;33m\u001b[0m\u001b[0m\n\u001b[0;32m      5\u001b[0m \u001b[0mX\u001b[0m \u001b[1;33m=\u001b[0m \u001b[0msm\u001b[0m\u001b[1;33m.\u001b[0m\u001b[0madd_constant\u001b[0m\u001b[1;33m(\u001b[0m\u001b[0mX\u001b[0m\u001b[1;33m)\u001b[0m\u001b[1;33m\u001b[0m\u001b[1;33m\u001b[0m\u001b[0m\n",
      "\u001b[1;31mModuleNotFoundError\u001b[0m: No module named 'statsmodels'"
     ]
    }
   ],
   "source": [
    "import statsmodels.api as sm\n",
    "import numpy as np\n",
    "Y = df['Recovery']\n",
    "X = df[\"Sex\"]\n",
    "X = sm.add_constant(X)\n",
    "model = sm.OLS(Y,X)\n",
    "results = model.fit()\n",
    "results.params"
   ]
  },
  {
   "cell_type": "markdown",
   "metadata": {},
   "source": [
    "### f) Describe the paradoxon that the data seem to present!"
   ]
  },
  {
   "cell_type": "markdown",
   "metadata": {},
   "source": [
    "Answer: Taking the drug seems to help both men and women in their respective subpopulations, but for the overall population not taking it seems to be the better choice."
   ]
  },
  {
   "cell_type": "markdown",
   "metadata": {},
   "source": [
    "## Causal inference to the rescue (qualitative)\n",
    "### a) Randomized Controlled Trials (RCTs) are the gold-standard for clinical studies. Our patients have decided themselves if they wanted to take the drug or not. In an RCT, the experimenters decide for each patient whether they will take the drug or not (i.e. receive a placebo). What would the causal graph over Sex, Drug and Recovery look like if it was generated by an RCT?"
   ]
  },
  {
   "cell_type": "markdown",
   "metadata": {},
   "source": []
  },
  {
   "cell_type": "markdown",
   "metadata": {},
   "source": [
    "### b) Can you draw the causal graph for the scenario that has generated our data? Start by stating which edges must (not) exist and identify the correct graph from the remaining possibilities."
   ]
  },
  {
   "cell_type": "markdown",
   "metadata": {},
   "source": []
  },
  {
   "cell_type": "markdown",
   "metadata": {},
   "source": [
    "### c) What is the difference between the two graphs?"
   ]
  },
  {
   "cell_type": "markdown",
   "metadata": {},
   "source": []
  },
  {
   "cell_type": "markdown",
   "metadata": {},
   "source": [
    "### d) Can you find an explanation for the paradoxon in our data?"
   ]
  },
  {
   "cell_type": "markdown",
   "metadata": {},
   "source": []
  },
  {
   "cell_type": "markdown",
   "metadata": {},
   "source": [
    "### e) Taking into account your explanation, would you recommend taking the drug to a random person? To a man? To a woman?"
   ]
  },
  {
   "cell_type": "markdown",
   "metadata": {},
   "source": []
  },
  {
   "cell_type": "markdown",
   "metadata": {},
   "source": [
    "### f) Can you think of a scenario where the data is exactly the same, but your recommendation is the opposite? You are allowed to replace Sex by a different binary variable with the same distribution (e.g. for an Income variable, you would replace each 'Man' by 'low' and each 'Woman' by 'high')."
   ]
  },
  {
   "cell_type": "markdown",
   "metadata": {},
   "source": []
  },
  {
   "cell_type": "markdown",
   "metadata": {},
   "source": [
    "## Causal inference to the rescue (quantitative)\n",
    "### Given that our qualitative considerations about the data generating process still require some mental gymnastics, let us exploit Pearl's theory of graph-based causal inference and automate the causal analysis with the ```cause2e``` package. Based on the example analysis with the Sprinkler dataset, create your own causal end-to-end analysis and decide if you would recommend taking the drug! As a starting point, use the example analysis notebook. You will see that only minor changes are necessary to adapt the analysis to the new use case.\n",
    "- read the data\n",
    "- provide domain knowledge (qualitative and quantitative)\n",
    "- learn the causal graph from data and domain knowledge\n",
    "- postprocess it (if necessary) or provide new domain knowledge\n",
    "- estimate all causal effects\n",
    "- describe the results and make your recommendation"
   ]
  },
  {
   "cell_type": "markdown",
   "metadata": {},
   "source": []
  }
 ],
 "metadata": {
  "interpreter": {
   "hash": "4697cb428b990343430888fd6e79b9ccd4a789c087a3fcc20700e77261b659ed"
  },
  "kernelspec": {
   "display_name": "Python 3 (ipykernel)",
   "language": "python",
   "name": "python3"
  },
  "language_info": {
   "codemirror_mode": {
    "name": "ipython",
    "version": 3
   },
   "file_extension": ".py",
   "mimetype": "text/x-python",
   "name": "python",
   "nbconvert_exporter": "python",
   "pygments_lexer": "ipython3",
   "version": "3.9.7"
  }
 },
 "nbformat": 4,
 "nbformat_minor": 2
}
