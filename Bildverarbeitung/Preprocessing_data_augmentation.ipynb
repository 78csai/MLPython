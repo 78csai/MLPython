{
 "cells": [
  {
   "cell_type": "code",
   "execution_count": 2,
   "id": "ad01e5d5",
   "metadata": {},
   "outputs": [],
   "source": [
    "import pandas as pd\n",
    "from pathlib import Path\n",
    "import matplotlib.pyplot as plt\n",
    "import rasterio\n",
    "import numpy as np\n",
    "import cv2\n",
    "import os"
   ]
  },
  {
   "cell_type": "code",
   "execution_count": null,
   "id": "9a5f90bb",
   "metadata": {},
   "outputs": [],
   "source": [
    "# load data from numpy arrays:\n",
    "# ships:\n",
    "img_number= 200\n",
    "data=np.empty((700,500,500,4))\n",
    "label =np.array([])\n",
    "for img_number in range(0,700):\n",
    "    path=Path('D:\\\\Data\\\\prep_ships\\s{}.npy'.format(img_number))\n",
    "    img = np.load(path)\n",
    "    np.append(data, img)\n",
    "    np.append(label, 1)\n",
    "data.shape\n",
    "    \n",
    "    \n",
    "\n",
    "    "
   ]
  },
  {
   "cell_type": "code",
   "execution_count": 52,
   "id": "14b59fb6",
   "metadata": {},
   "outputs": [
    {
     "data": {
      "text/plain": [
       "array([    700,       1, 1000000, ...,     739,     450,     387])"
      ]
     },
     "execution_count": 52,
     "metadata": {},
     "output_type": "execute_result"
    }
   ],
   "source": []
  },
  {
   "cell_type": "code",
   "execution_count": null,
   "id": "c688c365",
   "metadata": {},
   "outputs": [],
   "source": []
  }
 ],
 "metadata": {
  "kernelspec": {
   "display_name": "Python 3 (ipykernel)",
   "language": "python",
   "name": "python3"
  },
  "language_info": {
   "codemirror_mode": {
    "name": "ipython",
    "version": 3
   },
   "file_extension": ".py",
   "mimetype": "text/x-python",
   "name": "python",
   "nbconvert_exporter": "python",
   "pygments_lexer": "ipython3",
   "version": "3.9.7"
  }
 },
 "nbformat": 4,
 "nbformat_minor": 5
}
