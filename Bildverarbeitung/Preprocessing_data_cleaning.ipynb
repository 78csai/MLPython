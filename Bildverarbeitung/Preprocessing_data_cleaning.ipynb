{
 "cells": [
  {
   "cell_type": "code",
   "execution_count": 5,
   "id": "d60e5981",
   "metadata": {},
   "outputs": [],
   "source": [
    "import pandas as pd\n",
    "from pathlib import Path\n",
    "import matplotlib.pyplot as plt\n",
    "import rasterio\n",
    "import numpy as np\n",
    "import cv2\n",
    "import os\n",
    "import glob\n",
    "import sys\n",
    "import shutil\n",
    "from PIL import Image"
   ]
  },
  {
   "cell_type": "code",
   "execution_count": 22,
   "id": "5f4ae706",
   "metadata": {},
   "outputs": [],
   "source": [
    "df=pd.read_csv(Path(\"D:\\Data\\shipsAIS_2017_Zone17.csv\"), index_col=\"newindex\")\n"
   ]
  },
  {
   "cell_type": "code",
   "execution_count": 15,
   "id": "ad4d78e0",
   "metadata": {},
   "outputs": [],
   "source": [
    "#image preprocessing\n",
    "#data loading\n",
    "\n",
    "def load_tif(img_number,path):\n",
    "    i = \"3B_AnalyticMS_clip_toar.tif\"\n",
    "    basePath = path.format(img_number)\n",
    "    path_string = glob.glob(os.path.join(basePath,'*{0}*'.format(i)))[0]\n",
    "    img_fn = Path(path_string)\n",
    "    src_ds = rasterio.open(img_fn)\n",
    "    image = src_ds.read()\n",
    "    image = image.swapaxes(0,2).swapaxes(0,1)\n",
    "    return image\n",
    "\n",
    "#image cropping without augmentation\n",
    "#croping difficul eg. 100 is out of crop (900/900) needed to see ship\n",
    "def crop(w,h,image):\n",
    "    center_x=image.shape[0] / 2\n",
    "    center_y=image.shape[1] / 2\n",
    "    x = int(center_x - w/2)\n",
    "    y = int(center_y - h/2)\n",
    "    image_crop = image[y:y+h, x:x+w]\n",
    "    return image_crop\n",
    "\n",
    "\n",
    "def plot(image):\n",
    "    #image_norm=cv2.normalize(image, None, 0, 1, cv2.NORM_MINMAX, dtype=cv2.CV_32F)\n",
    "    image_norm=image\n",
    "    image_rgb = image_norm[:,:,[0,1,2]]\n",
    "    plt.figure(figsize=(16,16))\n",
    "    plt.imshow(image_rgb)\n",
    "    \n",
    "def plot_rgb(image):\n",
    "    #image_norm=cv2.normalize(image, None, 0, 1, cv2.NORM_MINMAX, dtype=cv2.CV_32F)\n",
    "    image_norm=image\n",
    "    plt.figure(figsize=(16,16))\n",
    "    plt.imshow(image_norm)\n",
    "    \n",
    "def store_np(img, path):\n",
    "    img_dst= Path(path.format(img_number))\n",
    "    np.save(img_dst, img)\n",
    "    \n",
    "def bgrn_to_rgbn(img):\n",
    "    imgcpy=img.copy()\n",
    "    img[:,:,0]=imgcpy[:,:,2]\n",
    "    img[:,:,2]=imgcpy[:,:,0]\n",
    "    return img\n",
    "\n",
    "def bgr_to_rgb(img):\n",
    "    im_rgb = img[:, :, [2, 1, 0]]\n",
    "    return im_rgb\n",
    "def store_png(img, path):\n",
    "    img=Image.fromarray((img * 255).astype(np.uint8))\n",
    "    img.save(\"{}.png\".format(path))\n",
    "    \n",
    "#plot\n",
    "def store_tif(img, path, src):\n",
    "    with rasterio.Env():\n",
    "        profile = src.profile\n",
    "        profile.update(dtype=rasterio.uint8,count=4,compress='lzw')\n",
    "\n",
    "    with rasterio.open(path, 'w', **profile) as dst:\n",
    "        dst.write(img.astype(rasterio.uint8), 4)\n",
    "    \n",
    "    \n"
   ]
  },
  {
   "cell_type": "code",
   "execution_count": 19,
   "id": "605c9e39",
   "metadata": {},
   "outputs": [],
   "source": [
    "#create new data set under path\n",
    "\n",
    "def create_new_dataset(path, rgb_only):\n",
    "    shutil.rmtree(path)\n",
    "    os.makedirs(Path(path+\"\\\\test\\\\ships\"))\n",
    "    os.makedirs(Path(path+\"\\\\test\\\\non_ships\"))\n",
    "    os.makedirs(Path(path+\"\\\\train\\\\ships\"))\n",
    "    os.makedirs(Path(path+\"\\\\train\\\\non_ships\"))\n",
    "    \n",
    "    def loop_images(path,tag, num_of_images):\n",
    "        img_number=0\n",
    "        c_test=0\n",
    "        c_train=0\n",
    "        while img_number <= num_of_images:\n",
    "            image=load_tif(img_number,r\"D:\\\\Data\\\\{}\\{}\\\\\".format(tag,img_number))\n",
    "            if rgb_only:\n",
    "                image=bgr_to_rgb(image)\n",
    "            else:\n",
    "                image=bgrn_to_rgbn(image)\n",
    "            image = cv2.normalize(image,0,255, norm_type=cv2.NORM_MINMAX, dtype=cv2.CV_8U)\n",
    "            image=crop(600,600,image)\n",
    "            \n",
    "            ran=np.random.rand(1)\n",
    "            if ran <= 0.25: #test data\n",
    "                store_png(image,\"{}\\\\test\\\\{}\\img{}\".format(path,tag,img_number))\n",
    "                c_test=c_test+1\n",
    "            else:\n",
    "                store_png(image,\"{}\\\\train\\\\{}\\img{}\".format(path,tag,img_number))\n",
    "                c_train=c_train+1\n",
    "            img_number = img_number +1\n",
    "        print(\"{} images of category {} in test\".format(c_test,tag))\n",
    "        print(\"{} images of category {} in train\".format(c_train,tag))\n",
    "    loop_images(path,\"ships\",871)\n",
    "    loop_images(path,\"non_ships\",877)\n",
    "\n",
    "\n",
    "    \n",
    "\n",
    "    "
   ]
  },
  {
   "cell_type": "code",
   "execution_count": 72,
   "id": "897506db",
   "metadata": {},
   "outputs": [
    {
     "name": "stdout",
     "output_type": "stream",
     "text": [
      "244 images of category ships in test\n",
      "628 images of category ships in train\n",
      "209 images of category non_ships in test\n",
      "669 images of category non_ships in train\n"
     ]
    }
   ],
   "source": [
    "create_new_dataset(\"D:\\\\Data\\\\data\", False)"
   ]
  },
  {
   "cell_type": "code",
   "execution_count": 20,
   "id": "73cf59d3",
   "metadata": {},
   "outputs": [
    {
     "name": "stdout",
     "output_type": "stream",
     "text": [
      "234 images of category ships in test\n",
      "638 images of category ships in train\n",
      "224 images of category non_ships in test\n",
      "654 images of category non_ships in train\n"
     ]
    }
   ],
   "source": [
    "create_new_dataset(\"D:\\\\Data\\\\data_rgb\", True)"
   ]
  },
  {
   "cell_type": "code",
   "execution_count": null,
   "id": "c4047258",
   "metadata": {},
   "outputs": [],
   "source": []
  }
 ],
 "metadata": {
  "kernelspec": {
   "display_name": "Python 3 (ipykernel)",
   "language": "python",
   "name": "python3"
  },
  "language_info": {
   "codemirror_mode": {
    "name": "ipython",
    "version": 3
   },
   "file_extension": ".py",
   "mimetype": "text/x-python",
   "name": "python",
   "nbconvert_exporter": "python",
   "pygments_lexer": "ipython3",
   "version": "3.9.7"
  }
 },
 "nbformat": 4,
 "nbformat_minor": 5
}
