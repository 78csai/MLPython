{
 "cells": [
  {
   "cell_type": "code",
   "execution_count": 2,
   "id": "d60e5981",
   "metadata": {},
   "outputs": [
    {
     "name": "stdout",
     "output_type": "stream",
     "text": [
      "Requirement already satisfied: opencv-python in c:\\users\\thoma\\anaconda3\\envs\\mlpython\\lib\\site-packages (4.5.5.62)\n",
      "Requirement already satisfied: numpy>=1.17.3 in c:\\users\\thoma\\anaconda3\\envs\\mlpython\\lib\\site-packages (from opencv-python) (1.20.3)\n"
     ]
    }
   ],
   "source": [
    "!pip install opencv-python\n",
    "import pandas as pd\n",
    "from pathlib import Path\n",
    "import matplotlib.pyplot as plt\n",
    "import rasterio\n",
    "import numpy as np\n",
    "import cv2\n",
    "import os\n",
    "import glob"
   ]
  },
  {
   "cell_type": "code",
   "execution_count": 3,
   "id": "5f4ae706",
   "metadata": {},
   "outputs": [],
   "source": [
    "df=pd.read_csv(Path(\"D:\\Data\\shipsAIS_2017_Zone17.csv\"), index_col=\"newindex\")\n"
   ]
  },
  {
   "cell_type": "code",
   "execution_count": 4,
   "id": "ad4d78e0",
   "metadata": {},
   "outputs": [],
   "source": [
    "#image preprocessing\n",
    "#data loading\n",
    "\n",
    "def load_tif(img_number,path):\n",
    "    i = \"3B_AnalyticMS_clip_toar.tif\"\n",
    "    basePath = path.format(img_number)\n",
    "    path_string = glob.glob(os.path.join(basePath,'*{0}*'.format(i)))[0]\n",
    "    img_fn = Path(path_string)\n",
    "    src_ds = rasterio.open(img_fn)\n",
    "    image = src_ds.read()\n",
    "    image = image.swapaxes(0,2).swapaxes(0,1)\n",
    "    return image\n",
    "\n",
    "#image cropping without augmentation\n",
    "#croping difficul eg. 100 is out of crop (900/900) needed to see ship\n",
    "def crop(w,h,image):\n",
    "    center_x=image.shape[0] / 2\n",
    "    center_y=image.shape[1] / 2\n",
    "    x = int(center_x - w/2)\n",
    "    y = int(center_y - h/2)\n",
    "    image_crop = image[y:y+h, x:x+w]\n",
    "    return image_crop\n",
    "\n",
    "\n",
    "def plot(image):\n",
    "    image_norm=cv2.normalize(image, None, 0, 1, cv2.NORM_MINMAX, dtype=cv2.CV_32F)\n",
    "    image_rgb = image_norm[:,:,[2,1,0]]\n",
    "    plt.figure(figsize=(16,16))\n",
    "    plt.imshow(image_rgb)\n",
    "    \n",
    "def store_np(img, path):\n",
    "    img_dst= Path(path.format(img_number))\n",
    "    np.save(img_dst, img)\n",
    "#plot\n"
   ]
  },
  {
   "cell_type": "code",
   "execution_count": null,
   "id": "da1354e7",
   "metadata": {},
   "outputs": [],
   "source": [
    "#data normalization\n",
    "#"
   ]
  },
  {
   "cell_type": "code",
   "execution_count": null,
   "id": "1f50ef4f",
   "metadata": {},
   "outputs": [],
   "source": []
  },
  {
   "cell_type": "code",
   "execution_count": null,
   "id": "bc7648e1",
   "metadata": {},
   "outputs": [],
   "source": [
    "image_crop_uint8=cv2.normalize(image, None, 0, 255, cv2.NORM_MINMAX, dtype=cv2.CV_8U)\n",
    "image_crop_uint16=cv2.normalize(image, None, 0, 65536, cv2.NORM_MINMAX, dtype=cv2.CV_16U)\n",
    "image_crop_float=cv2.normalize(image, None, 0, 1, cv2.NORM_MINMAX, dtype=cv2.CV_32F)\n",
    "plot(image_crop_uint)\n",
    "print(image_crop_uint8[500][500][0]/255)\n",
    "print(image_crop_uint16[500][500][0]/65536)\n",
    "print(image_crop_float[500][500][0])"
   ]
  },
  {
   "cell_type": "code",
   "execution_count": null,
   "id": "17aadb8c",
   "metadata": {},
   "outputs": [],
   "source": []
  },
  {
   "cell_type": "code",
   "execution_count": null,
   "id": "605c9e39",
   "metadata": {},
   "outputs": [],
   "source": [
    "#loop for all images:\n",
    "img_number=0\n",
    "i = \"3B_AnalyticMS_clip_toar.tif\"\n",
    "while img_number <= 880:\n",
    "    image=load_tif(img_number,r\"D:\\Data\\non_ships\\{}\\\\\")\n",
    "    image_crop_uint8=cv2.normalize(image, None, 0, 255, cv2.NORM_MINMAX, dtype=cv2.CV_8U)\n",
    "    image_crop=crop(500,500,image)\n",
    "    store_np(image_crop,\"D:\\\\Data\\\\prep_non_ships\\sn{}.npy\")\n",
    "    img_number = img_number +1\n",
    "    "
   ]
  },
  {
   "cell_type": "code",
   "execution_count": null,
   "id": "112dda18",
   "metadata": {},
   "outputs": [],
   "source": []
  },
  {
   "cell_type": "code",
   "execution_count": null,
   "id": "fa1e26fd",
   "metadata": {},
   "outputs": [],
   "source": []
  }
 ],
 "metadata": {
  "kernelspec": {
   "display_name": "Python 3 (ipykernel)",
   "language": "python",
   "name": "python3"
  },
  "language_info": {
   "codemirror_mode": {
    "name": "ipython",
    "version": 3
   },
   "file_extension": ".py",
   "mimetype": "text/x-python",
   "name": "python",
   "nbconvert_exporter": "python",
   "pygments_lexer": "ipython3",
   "version": "3.9.7"
  }
 },
 "nbformat": 4,
 "nbformat_minor": 5
}
