{
 "cells": [
  {
   "cell_type": "code",
   "execution_count": 1,
   "id": "47b99d41",
   "metadata": {},
   "outputs": [],
   "source": [
    "from cv2 import *\n",
    "# initialize the camera\n",
    "\n",
    "cam = VideoCapture(0)"
   ]
  },
  {
   "cell_type": "code",
   "execution_count": 35,
   "id": "85937d18",
   "metadata": {},
   "outputs": [],
   "source": [
    "import matplotlib.pyplot as plt\n",
    "import cv2\n",
    "path=\"D:\\Data_dice\\{}\\{}.jpeg\""
   ]
  },
  {
   "cell_type": "code",
   "execution_count": null,
   "id": "b950e2e3",
   "metadata": {},
   "outputs": [],
   "source": [
    "for i in range(10):\n",
    "    result, image = cam.read()\n",
    "    plt.imshow(image)\n",
    "    num=input(\"Welche Zahl?\")\n",
    "    path_img=path.format(num,i)\n",
    "    cv2.imwrite(path_img,image)\n"
   ]
  },
  {
   "cell_type": "code",
   "execution_count": 3,
   "id": "23a7fe9e",
   "metadata": {},
   "outputs": [],
   "source": []
  },
  {
   "cell_type": "code",
   "execution_count": null,
   "id": "e669fc1a",
   "metadata": {},
   "outputs": [],
   "source": []
  }
 ],
 "metadata": {
  "kernelspec": {
   "display_name": "Python 3",
   "language": "python",
   "name": "python3"
  },
  "language_info": {
   "codemirror_mode": {
    "name": "ipython",
    "version": 3
   },
   "file_extension": ".py",
   "mimetype": "text/x-python",
   "name": "python",
   "nbconvert_exporter": "python",
   "pygments_lexer": "ipython3",
   "version": "3.8.8"
  }
 },
 "nbformat": 4,
 "nbformat_minor": 5
}
