{
 "cells": [
  {
   "cell_type": "markdown",
   "id": "7c043c2d-140e-4298-930a-6548a6926365",
   "metadata": {
    "slideshow": {
     "slide_type": "slide"
    }
   },
   "source": [
    "# Python and Packages\n",
    "\n",
    "How to set up an Anaconda virtual environment."
   ]
  },
  {
   "cell_type": "markdown",
   "id": "7caf4245",
   "metadata": {
    "slideshow": {
     "slide_type": "fragment"
    }
   },
   "source": [
    "For more information see the following links: \n",
    "- Scikit-learn, k-means: https://scikit-learn.org/stable/modules/generated/sklearn.cluster.KMeans.html?highlight=kmeans#sklearn.cluster.KMeans\n",
    "- Aurélien Geron, Hands-on Machine Learning with Scikit-Learn, Keras and TensorFlow: https://github.com/ageron/handson-ml2\n",
    "- Sebastian Raschka, Python Machine Learning: https://github.com/rasbt/python-machine-learning-book-3rd-edition  \n",
    "- For those who need a refresher in Python: \n",
    "    -  Jake VanderPlas, A Whirlwind Tour of Python (online book) https://github.com/jakevdp/WhirlwindTourOfPython\n",
    "    -  https://cs231n.github.io/python-numpy-tutorial/"
   ]
  },
  {
   "cell_type": "markdown",
   "id": "8107c8de",
   "metadata": {
    "slideshow": {
     "slide_type": "slide"
    }
   },
   "source": [
    "### Python & Packages\n",
    "\n",
    "\n",
    "In this course we will use an Anaconda virtual environment with Python 3.9 (https://www.anaconda.com/) and, for now, Jupyter Notebooks with RISE (to get a slideshow).\n",
    "\n",
    "- In my opinion, Jupyter notebooks are a great tool for data analysis, visualisation and tutorials but not so much for programming (https://towardsdatascience.com/5-reasons-why-jupyter-notebooks-suck-4dc201e27086))\n",
    "- Visual Studio Code and PyCharm also provide Jupyter notebook support (but that may not work with RISE, as does Jupyter Lab)\n",
    "\n"
   ]
  },
  {
   "cell_type": "markdown",
   "id": "8f1db124",
   "metadata": {
    "slideshow": {
     "slide_type": "slide"
    }
   },
   "source": [
    "### Anaconda  \n",
    "Anaconda: https://www.anaconda.com/  \n",
    "Miniconda: https://docs.conda.io/en/latest/miniconda.html  \n",
    "\n",
    "1. Install Anaconda  \n",
    "Anaconda installs Python (currently 3.8) and a number of packages, which are often used in data science, e.g. NumPy. \n",
    "    \n",
    "    You can also use Miniconda, which basically just installs Python and Conda, because we will install the packages we need insight our virtual environment. "
   ]
  },
  {
   "cell_type": "markdown",
   "id": "a96f59b9",
   "metadata": {
    "slideshow": {
     "slide_type": "slide"
    }
   },
   "source": [
    "### Anaconda Virtual Environments  \n",
    "Anaconda environments: https://conda.io/projects/conda/en/latest/user-guide/tasks/manage-environments.html  \n",
    "\n",
    "2. Setup a virtual environment using a command line, e.g. Anaconda Prompt or Git BASH (https://gitforwindows.org/)\n",
    "- Open Anaconda Prompt / Git BASH\n",
    "- Create a new environment via: ```conda create --name env_name ``` (you can also use -n instead of --name)\n"
   ]
  },
  {
   "cell_type": "markdown",
   "id": "d00d75a1",
   "metadata": {
    "slideshow": {
     "slide_type": "slide"
    }
   },
   "source": [
    "3. Tips and tricks for installation\n",
    "- When creating a new environment, it is beneficial to state the to be installed packages right away, as shown below. Note that not all packages can be installed right away, e.g. if the package is not available in a default channel like conda-forge (see also: [link](https://conda.io/projects/conda/en/latest/user-guide/concepts/channels.html))\n",
    "\n",
    "    ```conda create -n env_name python=3 pip jupyter numpy matplotlib rise scikit-learn pandas seaborn```\n",
    "\n",
    "\n",
    "- python=3: installs the newest Python version. To be more specific use python=3.9. This works also for all other packages, however the package manager usually knows best which package versions work together.   \n",
    "- pip: Python's package manager. Necessary, because not all packages are available via Anaconda. Note that Anaconda is not aware of packages installed with pip, thus they should be installed last (see also: [link](https://conda.io/projects/conda/en/latest/user-guide/concepts/channels.htmlhttps://www.anaconda.com/blog/using-pip-in-a-conda-environment))\n",
    "- Jupyter: If not installed inside the environment and a jupyter notebook is opened, it defaults to Anaconda's default installation instead of the virtual environment\n"
   ]
  },
  {
   "cell_type": "markdown",
   "id": "ed035354",
   "metadata": {
    "slideshow": {
     "slide_type": "slide"
    }
   },
   "source": [
    "4. How to use the virtual environment\n",
    "\n",
    "- To activate the environment: ``` conda activate env_name ``` or ``` source activate env_name ``` if you are using a BASH\n",
    "- To deactivate the environment: ``` conda deactivate ```\n"
   ]
  },
  {
   "cell_type": "markdown",
   "id": "d6be8410",
   "metadata": {
    "slideshow": {
     "slide_type": "slide"
    }
   },
   "source": [
    "5. Tips and tricks within the environment   \n",
    "\n",
    "- To show all packages installed in the environment: ``` conda list ```\n",
    "- To install a new package ``` conda install -c conda-forge package_name ```. Here, ```-c conda-forge``` stands for the channel and may change from package to package. Just google *anaconda install package name* for the correct channel. \n",
    "- To run a Python script via command line: ```python script_name.py```\n",
    "- To check which environment the program / Jupyter notebook is using: ``` import sys; sys.path ``` "
   ]
  },
  {
   "cell_type": "markdown",
   "id": "f05fa10d",
   "metadata": {
    "slideshow": {
     "slide_type": "slide"
    }
   },
   "source": [
    "6. Wrap up Anaconda virtual environment & Jupyter notebooks  \n",
    "\n",
    "- Activate the virtual environment ```conda/source activate env_name```\n",
    "- Start Jupyter ```jupyter notebook``` or ```jupyter notebook notebook_name.ipynb``` (opens a web browser window)\n",
    "- Code away...\n",
    "- Optional: install new packages via command line and restart Jupyter notebook kernel\n",
    "- Terminate the notebook via command line with ```Ctrl + C, Ctrl + C``` and close the web browser tab\n",
    "- Deactivate the virtual environment ```conda deactivate```"
   ]
  },
  {
   "cell_type": "markdown",
   "id": "1b418de1",
   "metadata": {},
   "source": [
    "7. How to use RISE, the slideshow extension for Jupyter notebooks\n",
    "\n",
    "- If not already installed: ```conda install -c conda-forge rise ```\n",
    "- Go to: View / Cell Toolbar / Slideshow -> let's you declare each cell as Slide / Sub-slide / Fragment / etc. \n",
    "- Start the slideshow via ```Alt + R``` or via button"
   ]
  }
 ],
 "metadata": {
  "celltoolbar": "Slideshow",
  "kernelspec": {
   "display_name": "Python 3 (ipykernel)",
   "language": "python",
   "name": "python3"
  },
  "language_info": {
   "codemirror_mode": {
    "name": "ipython",
    "version": 3
   },
   "file_extension": ".py",
   "mimetype": "text/x-python",
   "name": "python",
   "nbconvert_exporter": "python",
   "pygments_lexer": "ipython3",
   "version": "3.8.11"
  }
 },
 "nbformat": 4,
 "nbformat_minor": 5
}
